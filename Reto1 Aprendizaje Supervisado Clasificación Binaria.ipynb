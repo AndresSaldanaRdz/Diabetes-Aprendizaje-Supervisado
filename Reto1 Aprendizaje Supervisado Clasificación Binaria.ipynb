{
 "cells": [
  {
   "cell_type": "code",
   "execution_count": 1,
   "id": "1c6c5995",
   "metadata": {},
   "outputs": [],
   "source": [
    "import pandas as pd\n",
    "import numpy as np\n",
    "from tabulate import tabulate\n",
    "from matplotlib import pyplot as plt\n",
    "from scipy.stats import randint\n",
    "from imblearn.over_sampling import RandomOverSampler\n",
    "from sklearn.model_selection import train_test_split \n",
    "from sklearn.model_selection import GridSearchCV\n",
    "from sklearn.model_selection import RandomizedSearchCV\n",
    "from sklearn.model_selection import cross_val_score\n",
    "from sklearn.neighbors import KNeighborsClassifier\n",
    "from sklearn.svm import SVC\n",
    "from sklearn.tree import DecisionTreeClassifier\n",
    "from sklearn.ensemble import RandomForestClassifier\n",
    "from sklearn.metrics import accuracy_score\n",
    "from sklearn.metrics import precision_score\n",
    "from sklearn.metrics import classification_report,confusion_matrix\n",
    "from sklearn.tree import DecisionTreeClassifier \n",
    "from sklearn.neural_network import MLPClassifier\n",
    "from sklearn import tree\n",
    "from sklearn.metrics import roc_curve\n",
    "from sklearn.metrics import roc_auc_score\n",
    "import seaborn as sns\n",
    "from pandas.plotting import scatter_matrix\n",
    "from sklearn.preprocessing import MinMaxScaler\n",
    "from sklearn.decomposition import PCA"
   ]
  },
  {
   "cell_type": "code",
   "execution_count": 2,
   "id": "e299b1c3",
   "metadata": {},
   "outputs": [],
   "source": [
    "df = pd.read_csv('DiabetesBin.csv')"
   ]
  },
  {
   "cell_type": "markdown",
   "id": "26e99d95",
   "metadata": {},
   "source": [
    "# Exploracion"
   ]
  },
  {
   "cell_type": "code",
   "execution_count": 3,
   "id": "891e721c",
   "metadata": {},
   "outputs": [],
   "source": [
    "df = df.drop([\"CholCheck\",\"AnyHealthcare\",\"NoDocbcCost\",\"GenHlth\",\"MentHlth\",\"PhysHlth\",\"Education\",\"Income\"],axis = 1)\n",
    "#Removemos las columnas que no usaremos"
   ]
  },
  {
   "cell_type": "code",
   "execution_count": 4,
   "id": "de7c3a24",
   "metadata": {},
   "outputs": [
    {
     "data": {
      "text/html": [
       "<div>\n",
       "<style scoped>\n",
       "    .dataframe tbody tr th:only-of-type {\n",
       "        vertical-align: middle;\n",
       "    }\n",
       "\n",
       "    .dataframe tbody tr th {\n",
       "        vertical-align: top;\n",
       "    }\n",
       "\n",
       "    .dataframe thead th {\n",
       "        text-align: right;\n",
       "    }\n",
       "</style>\n",
       "<table border=\"1\" class=\"dataframe\">\n",
       "  <thead>\n",
       "    <tr style=\"text-align: right;\">\n",
       "      <th></th>\n",
       "      <th>Diabetes_binary</th>\n",
       "      <th>HighBP</th>\n",
       "      <th>HighChol</th>\n",
       "      <th>BMI</th>\n",
       "      <th>Smoker</th>\n",
       "      <th>Stroke</th>\n",
       "      <th>HeartDiseaseorAttack</th>\n",
       "      <th>PhysActivity</th>\n",
       "      <th>Fruits</th>\n",
       "      <th>Veggies</th>\n",
       "      <th>HvyAlcoholConsump</th>\n",
       "      <th>DiffWalk</th>\n",
       "      <th>Sex</th>\n",
       "      <th>Age</th>\n",
       "    </tr>\n",
       "  </thead>\n",
       "  <tbody>\n",
       "    <tr>\n",
       "      <th>0</th>\n",
       "      <td>0.0</td>\n",
       "      <td>1.0</td>\n",
       "      <td>0.0</td>\n",
       "      <td>26.0</td>\n",
       "      <td>0.0</td>\n",
       "      <td>0.0</td>\n",
       "      <td>0.0</td>\n",
       "      <td>1.0</td>\n",
       "      <td>0.0</td>\n",
       "      <td>1.0</td>\n",
       "      <td>0.0</td>\n",
       "      <td>0.0</td>\n",
       "      <td>1.0</td>\n",
       "      <td>4.0</td>\n",
       "    </tr>\n",
       "    <tr>\n",
       "      <th>1</th>\n",
       "      <td>0.0</td>\n",
       "      <td>1.0</td>\n",
       "      <td>1.0</td>\n",
       "      <td>26.0</td>\n",
       "      <td>1.0</td>\n",
       "      <td>1.0</td>\n",
       "      <td>0.0</td>\n",
       "      <td>0.0</td>\n",
       "      <td>1.0</td>\n",
       "      <td>0.0</td>\n",
       "      <td>0.0</td>\n",
       "      <td>0.0</td>\n",
       "      <td>1.0</td>\n",
       "      <td>12.0</td>\n",
       "    </tr>\n",
       "    <tr>\n",
       "      <th>2</th>\n",
       "      <td>0.0</td>\n",
       "      <td>0.0</td>\n",
       "      <td>0.0</td>\n",
       "      <td>26.0</td>\n",
       "      <td>0.0</td>\n",
       "      <td>0.0</td>\n",
       "      <td>0.0</td>\n",
       "      <td>1.0</td>\n",
       "      <td>1.0</td>\n",
       "      <td>1.0</td>\n",
       "      <td>0.0</td>\n",
       "      <td>0.0</td>\n",
       "      <td>1.0</td>\n",
       "      <td>13.0</td>\n",
       "    </tr>\n",
       "    <tr>\n",
       "      <th>3</th>\n",
       "      <td>0.0</td>\n",
       "      <td>1.0</td>\n",
       "      <td>1.0</td>\n",
       "      <td>28.0</td>\n",
       "      <td>1.0</td>\n",
       "      <td>0.0</td>\n",
       "      <td>0.0</td>\n",
       "      <td>1.0</td>\n",
       "      <td>1.0</td>\n",
       "      <td>1.0</td>\n",
       "      <td>0.0</td>\n",
       "      <td>0.0</td>\n",
       "      <td>1.0</td>\n",
       "      <td>11.0</td>\n",
       "    </tr>\n",
       "    <tr>\n",
       "      <th>4</th>\n",
       "      <td>0.0</td>\n",
       "      <td>0.0</td>\n",
       "      <td>0.0</td>\n",
       "      <td>29.0</td>\n",
       "      <td>1.0</td>\n",
       "      <td>0.0</td>\n",
       "      <td>0.0</td>\n",
       "      <td>1.0</td>\n",
       "      <td>1.0</td>\n",
       "      <td>1.0</td>\n",
       "      <td>0.0</td>\n",
       "      <td>0.0</td>\n",
       "      <td>0.0</td>\n",
       "      <td>8.0</td>\n",
       "    </tr>\n",
       "  </tbody>\n",
       "</table>\n",
       "</div>"
      ],
      "text/plain": [
       "   Diabetes_binary  HighBP  HighChol   BMI  Smoker  Stroke  \\\n",
       "0              0.0     1.0       0.0  26.0     0.0     0.0   \n",
       "1              0.0     1.0       1.0  26.0     1.0     1.0   \n",
       "2              0.0     0.0       0.0  26.0     0.0     0.0   \n",
       "3              0.0     1.0       1.0  28.0     1.0     0.0   \n",
       "4              0.0     0.0       0.0  29.0     1.0     0.0   \n",
       "\n",
       "   HeartDiseaseorAttack  PhysActivity  Fruits  Veggies  HvyAlcoholConsump  \\\n",
       "0                   0.0           1.0     0.0      1.0                0.0   \n",
       "1                   0.0           0.0     1.0      0.0                0.0   \n",
       "2                   0.0           1.0     1.0      1.0                0.0   \n",
       "3                   0.0           1.0     1.0      1.0                0.0   \n",
       "4                   0.0           1.0     1.0      1.0                0.0   \n",
       "\n",
       "   DiffWalk  Sex   Age  \n",
       "0       0.0  1.0   4.0  \n",
       "1       0.0  1.0  12.0  \n",
       "2       0.0  1.0  13.0  \n",
       "3       0.0  1.0  11.0  \n",
       "4       0.0  0.0   8.0  "
      ]
     },
     "execution_count": 4,
     "metadata": {},
     "output_type": "execute_result"
    }
   ],
   "source": [
    "df.head(5)"
   ]
  },
  {
   "cell_type": "code",
   "execution_count": 5,
   "id": "ddfafc37",
   "metadata": {},
   "outputs": [
    {
     "data": {
      "text/plain": [
       "0.0    35346\n",
       "1.0    35346\n",
       "Name: Diabetes_binary, dtype: int64"
      ]
     },
     "execution_count": 5,
     "metadata": {},
     "output_type": "execute_result"
    }
   ],
   "source": [
    "df[\"Diabetes_binary\"].value_counts()\n",
    "#Vemos que los datos estan balanceados"
   ]
  },
  {
   "cell_type": "code",
   "execution_count": 6,
   "id": "20f7c52c",
   "metadata": {},
   "outputs": [
    {
     "name": "stdout",
     "output_type": "stream",
     "text": [
      "<class 'pandas.core.frame.DataFrame'>\n",
      "RangeIndex: 70692 entries, 0 to 70691\n",
      "Data columns (total 14 columns):\n",
      " #   Column                Non-Null Count  Dtype  \n",
      "---  ------                --------------  -----  \n",
      " 0   Diabetes_binary       70692 non-null  float64\n",
      " 1   HighBP                70692 non-null  float64\n",
      " 2   HighChol              70692 non-null  float64\n",
      " 3   BMI                   70692 non-null  float64\n",
      " 4   Smoker                70692 non-null  float64\n",
      " 5   Stroke                70692 non-null  float64\n",
      " 6   HeartDiseaseorAttack  70692 non-null  float64\n",
      " 7   PhysActivity          70692 non-null  float64\n",
      " 8   Fruits                70692 non-null  float64\n",
      " 9   Veggies               70692 non-null  float64\n",
      " 10  HvyAlcoholConsump     70692 non-null  float64\n",
      " 11  DiffWalk              70692 non-null  float64\n",
      " 12  Sex                   70692 non-null  float64\n",
      " 13  Age                   70692 non-null  float64\n",
      "dtypes: float64(14)\n",
      "memory usage: 7.6 MB\n"
     ]
    }
   ],
   "source": [
    "df.info()\n",
    "#Vemos que no hay datos faltantes ni datos nulos"
   ]
  },
  {
   "cell_type": "code",
   "execution_count": 7,
   "id": "d291ce4f",
   "metadata": {},
   "outputs": [
    {
     "data": {
      "text/html": [
       "<div>\n",
       "<style scoped>\n",
       "    .dataframe tbody tr th:only-of-type {\n",
       "        vertical-align: middle;\n",
       "    }\n",
       "\n",
       "    .dataframe tbody tr th {\n",
       "        vertical-align: top;\n",
       "    }\n",
       "\n",
       "    .dataframe thead th {\n",
       "        text-align: right;\n",
       "    }\n",
       "</style>\n",
       "<table border=\"1\" class=\"dataframe\">\n",
       "  <thead>\n",
       "    <tr style=\"text-align: right;\">\n",
       "      <th></th>\n",
       "      <th>Diabetes_binary</th>\n",
       "      <th>HighBP</th>\n",
       "      <th>HighChol</th>\n",
       "      <th>BMI</th>\n",
       "      <th>Smoker</th>\n",
       "      <th>Stroke</th>\n",
       "      <th>HeartDiseaseorAttack</th>\n",
       "      <th>PhysActivity</th>\n",
       "      <th>Fruits</th>\n",
       "      <th>Veggies</th>\n",
       "      <th>HvyAlcoholConsump</th>\n",
       "      <th>DiffWalk</th>\n",
       "      <th>Sex</th>\n",
       "      <th>Age</th>\n",
       "    </tr>\n",
       "  </thead>\n",
       "  <tbody>\n",
       "    <tr>\n",
       "      <th>count</th>\n",
       "      <td>70692.000000</td>\n",
       "      <td>70692.000000</td>\n",
       "      <td>70692.000000</td>\n",
       "      <td>70692.000000</td>\n",
       "      <td>70692.000000</td>\n",
       "      <td>70692.000000</td>\n",
       "      <td>70692.000000</td>\n",
       "      <td>70692.000000</td>\n",
       "      <td>70692.000000</td>\n",
       "      <td>70692.000000</td>\n",
       "      <td>70692.000000</td>\n",
       "      <td>70692.000000</td>\n",
       "      <td>70692.000000</td>\n",
       "      <td>70692.000000</td>\n",
       "    </tr>\n",
       "    <tr>\n",
       "      <th>mean</th>\n",
       "      <td>0.500000</td>\n",
       "      <td>0.563458</td>\n",
       "      <td>0.525703</td>\n",
       "      <td>29.856985</td>\n",
       "      <td>0.475273</td>\n",
       "      <td>0.062171</td>\n",
       "      <td>0.147810</td>\n",
       "      <td>0.703036</td>\n",
       "      <td>0.611795</td>\n",
       "      <td>0.788774</td>\n",
       "      <td>0.042721</td>\n",
       "      <td>0.252730</td>\n",
       "      <td>0.456997</td>\n",
       "      <td>8.584055</td>\n",
       "    </tr>\n",
       "    <tr>\n",
       "      <th>std</th>\n",
       "      <td>0.500004</td>\n",
       "      <td>0.495960</td>\n",
       "      <td>0.499342</td>\n",
       "      <td>7.113954</td>\n",
       "      <td>0.499392</td>\n",
       "      <td>0.241468</td>\n",
       "      <td>0.354914</td>\n",
       "      <td>0.456924</td>\n",
       "      <td>0.487345</td>\n",
       "      <td>0.408181</td>\n",
       "      <td>0.202228</td>\n",
       "      <td>0.434581</td>\n",
       "      <td>0.498151</td>\n",
       "      <td>2.852153</td>\n",
       "    </tr>\n",
       "    <tr>\n",
       "      <th>min</th>\n",
       "      <td>0.000000</td>\n",
       "      <td>0.000000</td>\n",
       "      <td>0.000000</td>\n",
       "      <td>12.000000</td>\n",
       "      <td>0.000000</td>\n",
       "      <td>0.000000</td>\n",
       "      <td>0.000000</td>\n",
       "      <td>0.000000</td>\n",
       "      <td>0.000000</td>\n",
       "      <td>0.000000</td>\n",
       "      <td>0.000000</td>\n",
       "      <td>0.000000</td>\n",
       "      <td>0.000000</td>\n",
       "      <td>1.000000</td>\n",
       "    </tr>\n",
       "    <tr>\n",
       "      <th>25%</th>\n",
       "      <td>0.000000</td>\n",
       "      <td>0.000000</td>\n",
       "      <td>0.000000</td>\n",
       "      <td>25.000000</td>\n",
       "      <td>0.000000</td>\n",
       "      <td>0.000000</td>\n",
       "      <td>0.000000</td>\n",
       "      <td>0.000000</td>\n",
       "      <td>0.000000</td>\n",
       "      <td>1.000000</td>\n",
       "      <td>0.000000</td>\n",
       "      <td>0.000000</td>\n",
       "      <td>0.000000</td>\n",
       "      <td>7.000000</td>\n",
       "    </tr>\n",
       "    <tr>\n",
       "      <th>50%</th>\n",
       "      <td>0.500000</td>\n",
       "      <td>1.000000</td>\n",
       "      <td>1.000000</td>\n",
       "      <td>29.000000</td>\n",
       "      <td>0.000000</td>\n",
       "      <td>0.000000</td>\n",
       "      <td>0.000000</td>\n",
       "      <td>1.000000</td>\n",
       "      <td>1.000000</td>\n",
       "      <td>1.000000</td>\n",
       "      <td>0.000000</td>\n",
       "      <td>0.000000</td>\n",
       "      <td>0.000000</td>\n",
       "      <td>9.000000</td>\n",
       "    </tr>\n",
       "    <tr>\n",
       "      <th>75%</th>\n",
       "      <td>1.000000</td>\n",
       "      <td>1.000000</td>\n",
       "      <td>1.000000</td>\n",
       "      <td>33.000000</td>\n",
       "      <td>1.000000</td>\n",
       "      <td>0.000000</td>\n",
       "      <td>0.000000</td>\n",
       "      <td>1.000000</td>\n",
       "      <td>1.000000</td>\n",
       "      <td>1.000000</td>\n",
       "      <td>0.000000</td>\n",
       "      <td>1.000000</td>\n",
       "      <td>1.000000</td>\n",
       "      <td>11.000000</td>\n",
       "    </tr>\n",
       "    <tr>\n",
       "      <th>max</th>\n",
       "      <td>1.000000</td>\n",
       "      <td>1.000000</td>\n",
       "      <td>1.000000</td>\n",
       "      <td>98.000000</td>\n",
       "      <td>1.000000</td>\n",
       "      <td>1.000000</td>\n",
       "      <td>1.000000</td>\n",
       "      <td>1.000000</td>\n",
       "      <td>1.000000</td>\n",
       "      <td>1.000000</td>\n",
       "      <td>1.000000</td>\n",
       "      <td>1.000000</td>\n",
       "      <td>1.000000</td>\n",
       "      <td>13.000000</td>\n",
       "    </tr>\n",
       "  </tbody>\n",
       "</table>\n",
       "</div>"
      ],
      "text/plain": [
       "       Diabetes_binary        HighBP      HighChol           BMI  \\\n",
       "count     70692.000000  70692.000000  70692.000000  70692.000000   \n",
       "mean          0.500000      0.563458      0.525703     29.856985   \n",
       "std           0.500004      0.495960      0.499342      7.113954   \n",
       "min           0.000000      0.000000      0.000000     12.000000   \n",
       "25%           0.000000      0.000000      0.000000     25.000000   \n",
       "50%           0.500000      1.000000      1.000000     29.000000   \n",
       "75%           1.000000      1.000000      1.000000     33.000000   \n",
       "max           1.000000      1.000000      1.000000     98.000000   \n",
       "\n",
       "             Smoker        Stroke  HeartDiseaseorAttack  PhysActivity  \\\n",
       "count  70692.000000  70692.000000          70692.000000  70692.000000   \n",
       "mean       0.475273      0.062171              0.147810      0.703036   \n",
       "std        0.499392      0.241468              0.354914      0.456924   \n",
       "min        0.000000      0.000000              0.000000      0.000000   \n",
       "25%        0.000000      0.000000              0.000000      0.000000   \n",
       "50%        0.000000      0.000000              0.000000      1.000000   \n",
       "75%        1.000000      0.000000              0.000000      1.000000   \n",
       "max        1.000000      1.000000              1.000000      1.000000   \n",
       "\n",
       "             Fruits       Veggies  HvyAlcoholConsump      DiffWalk  \\\n",
       "count  70692.000000  70692.000000       70692.000000  70692.000000   \n",
       "mean       0.611795      0.788774           0.042721      0.252730   \n",
       "std        0.487345      0.408181           0.202228      0.434581   \n",
       "min        0.000000      0.000000           0.000000      0.000000   \n",
       "25%        0.000000      1.000000           0.000000      0.000000   \n",
       "50%        1.000000      1.000000           0.000000      0.000000   \n",
       "75%        1.000000      1.000000           0.000000      1.000000   \n",
       "max        1.000000      1.000000           1.000000      1.000000   \n",
       "\n",
       "                Sex           Age  \n",
       "count  70692.000000  70692.000000  \n",
       "mean       0.456997      8.584055  \n",
       "std        0.498151      2.852153  \n",
       "min        0.000000      1.000000  \n",
       "25%        0.000000      7.000000  \n",
       "50%        0.000000      9.000000  \n",
       "75%        1.000000     11.000000  \n",
       "max        1.000000     13.000000  "
      ]
     },
     "execution_count": 7,
     "metadata": {},
     "output_type": "execute_result"
    }
   ],
   "source": [
    "df.describe()\n",
    "#Los unicos datos no binarios son BMI y EDAD"
   ]
  },
  {
   "cell_type": "markdown",
   "id": "c8270334",
   "metadata": {},
   "source": [
    "# Correlacion y Graficos"
   ]
  },
  {
   "cell_type": "code",
   "execution_count": 8,
   "id": "ac8c0c29",
   "metadata": {},
   "outputs": [
    {
     "data": {
      "text/plain": [
       "<AxesSubplot:>"
      ]
     },
     "execution_count": 8,
     "metadata": {},
     "output_type": "execute_result"
    },
    {
     "data": {
      "image/png": "[encoded data removed]",
      "text/plain": [
       "<Figure size 1152x432 with 2 Axes>"
      ]
     },
     "metadata": {
      "needs_background": "light"
     },
     "output_type": "display_data"
    }
   ],
   "source": [
    "plt.figure(figsize=(16, 6))\n",
    "sns.heatmap(df.corr(), annot=True)"
   ]
  },
  {
   "cell_type": "code",
   "execution_count": 9,
   "id": "d959c805",
   "metadata": {},
   "outputs": [
    {
     "data": {
      "image/png": "[encoded data removed]",
      "text/plain": [
       "<Figure size 720x360 with 1 Axes>"
      ]
     },
     "metadata": {
      "needs_background": "light"
     },
     "output_type": "display_data"
    },
    {
     "data": {
      "image/png": "[encoded data removed]",
      "text/plain": [
       "<Figure size 720x360 with 1 Axes>"
      ]
     },
     "metadata": {
      "needs_background": "light"
     },
     "output_type": "display_data"
    }
   ],
   "source": [
    "df[\"BMI\"].hist(bins=7, figsize=(10,5))\n",
    "plt.title(\"BMI\")\n",
    "plt.show()\n",
    "df[\"Age\"].hist(bins=7, figsize=(10,5))\n",
    "plt.title(\"Age\")\n",
    "plt.show()"
   ]
  },
  {
   "cell_type": "markdown",
   "id": "94f27be5",
   "metadata": {},
   "source": [
    "# Escalamieto y separacion de los datos"
   ]
  },
  {
   "cell_type": "code",
   "execution_count": 10,
   "id": "3a748f19",
   "metadata": {},
   "outputs": [],
   "source": [
    "minmax_scale = MinMaxScaler().fit_transform(df) \n",
    "df = pd.DataFrame(minmax_scale,columns=df.columns)\n",
    "#Escalamos los datos con Min Max, para que todas tengan unrando de 0-1, (NO BENEFICIA A REDES NEURONALES)"
   ]
  },
  {
   "cell_type": "code",
   "execution_count": 11,
   "id": "3fff60b9",
   "metadata": {},
   "outputs": [],
   "source": [
    "feature_names = df.columns\n",
    "feature_names = feature_names.drop(\"Diabetes_binary\")\n",
    "X = df[feature_names]\n",
    "Y = df[\"Diabetes_binary\"]\n",
    "#Separamos los datos en features y target"
   ]
  },
  {
   "cell_type": "code",
   "execution_count": 12,
   "id": "1eb7d2d4",
   "metadata": {},
   "outputs": [
    {
     "data": {
      "text/html": [
       "<div>\n",
       "<style scoped>\n",
       "    .dataframe tbody tr th:only-of-type {\n",
       "        vertical-align: middle;\n",
       "    }\n",
       "\n",
       "    .dataframe tbody tr th {\n",
       "        vertical-align: top;\n",
       "    }\n",
       "\n",
       "    .dataframe thead th {\n",
       "        text-align: right;\n",
       "    }\n",
       "</style>\n",
       "<table border=\"1\" class=\"dataframe\">\n",
       "  <thead>\n",
       "    <tr style=\"text-align: right;\">\n",
       "      <th></th>\n",
       "      <th>HighBP</th>\n",
       "      <th>HighChol</th>\n",
       "      <th>BMI</th>\n",
       "      <th>Smoker</th>\n",
       "      <th>Stroke</th>\n",
       "      <th>HeartDiseaseorAttack</th>\n",
       "      <th>PhysActivity</th>\n",
       "      <th>Fruits</th>\n",
       "      <th>Veggies</th>\n",
       "      <th>HvyAlcoholConsump</th>\n",
       "      <th>DiffWalk</th>\n",
       "      <th>Sex</th>\n",
       "      <th>Age</th>\n",
       "    </tr>\n",
       "  </thead>\n",
       "  <tbody>\n",
       "    <tr>\n",
       "      <th>count</th>\n",
       "      <td>70692.000000</td>\n",
       "      <td>70692.000000</td>\n",
       "      <td>70692.000000</td>\n",
       "      <td>70692.000000</td>\n",
       "      <td>70692.000000</td>\n",
       "      <td>70692.000000</td>\n",
       "      <td>70692.000000</td>\n",
       "      <td>70692.000000</td>\n",
       "      <td>70692.000000</td>\n",
       "      <td>70692.000000</td>\n",
       "      <td>70692.000000</td>\n",
       "      <td>70692.000000</td>\n",
       "      <td>70692.000000</td>\n",
       "    </tr>\n",
       "    <tr>\n",
       "      <th>mean</th>\n",
       "      <td>0.563458</td>\n",
       "      <td>0.525703</td>\n",
       "      <td>0.207639</td>\n",
       "      <td>0.475273</td>\n",
       "      <td>0.062171</td>\n",
       "      <td>0.147810</td>\n",
       "      <td>0.703036</td>\n",
       "      <td>0.611795</td>\n",
       "      <td>0.788774</td>\n",
       "      <td>0.042721</td>\n",
       "      <td>0.252730</td>\n",
       "      <td>0.456997</td>\n",
       "      <td>0.632005</td>\n",
       "    </tr>\n",
       "    <tr>\n",
       "      <th>std</th>\n",
       "      <td>0.495960</td>\n",
       "      <td>0.499342</td>\n",
       "      <td>0.082720</td>\n",
       "      <td>0.499392</td>\n",
       "      <td>0.241468</td>\n",
       "      <td>0.354914</td>\n",
       "      <td>0.456924</td>\n",
       "      <td>0.487345</td>\n",
       "      <td>0.408181</td>\n",
       "      <td>0.202228</td>\n",
       "      <td>0.434581</td>\n",
       "      <td>0.498151</td>\n",
       "      <td>0.237679</td>\n",
       "    </tr>\n",
       "    <tr>\n",
       "      <th>min</th>\n",
       "      <td>0.000000</td>\n",
       "      <td>0.000000</td>\n",
       "      <td>0.000000</td>\n",
       "      <td>0.000000</td>\n",
       "      <td>0.000000</td>\n",
       "      <td>0.000000</td>\n",
       "      <td>0.000000</td>\n",
       "      <td>0.000000</td>\n",
       "      <td>0.000000</td>\n",
       "      <td>0.000000</td>\n",
       "      <td>0.000000</td>\n",
       "      <td>0.000000</td>\n",
       "      <td>0.000000</td>\n",
       "    </tr>\n",
       "    <tr>\n",
       "      <th>25%</th>\n",
       "      <td>0.000000</td>\n",
       "      <td>0.000000</td>\n",
       "      <td>0.151163</td>\n",
       "      <td>0.000000</td>\n",
       "      <td>0.000000</td>\n",
       "      <td>0.000000</td>\n",
       "      <td>0.000000</td>\n",
       "      <td>0.000000</td>\n",
       "      <td>1.000000</td>\n",
       "      <td>0.000000</td>\n",
       "      <td>0.000000</td>\n",
       "      <td>0.000000</td>\n",
       "      <td>0.500000</td>\n",
       "    </tr>\n",
       "    <tr>\n",
       "      <th>50%</th>\n",
       "      <td>1.000000</td>\n",
       "      <td>1.000000</td>\n",
       "      <td>0.197674</td>\n",
       "      <td>0.000000</td>\n",
       "      <td>0.000000</td>\n",
       "      <td>0.000000</td>\n",
       "      <td>1.000000</td>\n",
       "      <td>1.000000</td>\n",
       "      <td>1.000000</td>\n",
       "      <td>0.000000</td>\n",
       "      <td>0.000000</td>\n",
       "      <td>0.000000</td>\n",
       "      <td>0.666667</td>\n",
       "    </tr>\n",
       "    <tr>\n",
       "      <th>75%</th>\n",
       "      <td>1.000000</td>\n",
       "      <td>1.000000</td>\n",
       "      <td>0.244186</td>\n",
       "      <td>1.000000</td>\n",
       "      <td>0.000000</td>\n",
       "      <td>0.000000</td>\n",
       "      <td>1.000000</td>\n",
       "      <td>1.000000</td>\n",
       "      <td>1.000000</td>\n",
       "      <td>0.000000</td>\n",
       "      <td>1.000000</td>\n",
       "      <td>1.000000</td>\n",
       "      <td>0.833333</td>\n",
       "    </tr>\n",
       "    <tr>\n",
       "      <th>max</th>\n",
       "      <td>1.000000</td>\n",
       "      <td>1.000000</td>\n",
       "      <td>1.000000</td>\n",
       "      <td>1.000000</td>\n",
       "      <td>1.000000</td>\n",
       "      <td>1.000000</td>\n",
       "      <td>1.000000</td>\n",
       "      <td>1.000000</td>\n",
       "      <td>1.000000</td>\n",
       "      <td>1.000000</td>\n",
       "      <td>1.000000</td>\n",
       "      <td>1.000000</td>\n",
       "      <td>1.000000</td>\n",
       "    </tr>\n",
       "  </tbody>\n",
       "</table>\n",
       "</div>"
      ],
      "text/plain": [
       "             HighBP      HighChol           BMI        Smoker        Stroke  \\\n",
       "count  70692.000000  70692.000000  70692.000000  70692.000000  70692.000000   \n",
       "mean       0.563458      0.525703      0.207639      0.475273      0.062171   \n",
       "std        0.495960      0.499342      0.082720      0.499392      0.241468   \n",
       "min        0.000000      0.000000      0.000000      0.000000      0.000000   \n",
       "25%        0.000000      0.000000      0.151163      0.000000      0.000000   \n",
       "50%        1.000000      1.000000      0.197674      0.000000      0.000000   \n",
       "75%        1.000000      1.000000      0.244186      1.000000      0.000000   \n",
       "max        1.000000      1.000000      1.000000      1.000000      1.000000   \n",
       "\n",
       "       HeartDiseaseorAttack  PhysActivity        Fruits       Veggies  \\\n",
       "count          70692.000000  70692.000000  70692.000000  70692.000000   \n",
       "mean               0.147810      0.703036      0.611795      0.788774   \n",
       "std                0.354914      0.456924      0.487345      0.408181   \n",
       "min                0.000000      0.000000      0.000000      0.000000   \n",
       "25%                0.000000      0.000000      0.000000      1.000000   \n",
       "50%                0.000000      1.000000      1.000000      1.000000   \n",
       "75%                0.000000      1.000000      1.000000      1.000000   \n",
       "max                1.000000      1.000000      1.000000      1.000000   \n",
       "\n",
       "       HvyAlcoholConsump      DiffWalk           Sex           Age  \n",
       "count       70692.000000  70692.000000  70692.000000  70692.000000  \n",
       "mean            0.042721      0.252730      0.456997      0.632005  \n",
       "std             0.202228      0.434581      0.498151      0.237679  \n",
       "min             0.000000      0.000000      0.000000      0.000000  \n",
       "25%             0.000000      0.000000      0.000000      0.500000  \n",
       "50%             0.000000      0.000000      0.000000      0.666667  \n",
       "75%             0.000000      1.000000      1.000000      0.833333  \n",
       "max             1.000000      1.000000      1.000000      1.000000  "
      ]
     },
     "execution_count": 12,
     "metadata": {},
     "output_type": "execute_result"
    }
   ],
   "source": [
    "X.describe()"
   ]
  },
  {
   "cell_type": "code",
   "execution_count": 13,
   "id": "e9afc803",
   "metadata": {},
   "outputs": [],
   "source": [
    "pca = PCA(.95)\n",
    "X = pca.fit_transform(X)\n",
    "my_list = [\"Principal Component \"+str(i) for i in range(pca.n_components_)]\n",
    "X = pd.DataFrame(X,columns=my_list)\n",
    "# Una vez que los datos estan escalados, se hace la reducción de dimensionalidad PCA"
   ]
  },
  {
   "cell_type": "code",
   "execution_count": 14,
   "id": "e48aca63",
   "metadata": {},
   "outputs": [
    {
     "data": {
      "text/html": [
       "<div>\n",
       "<style scoped>\n",
       "    .dataframe tbody tr th:only-of-type {\n",
       "        vertical-align: middle;\n",
       "    }\n",
       "\n",
       "    .dataframe tbody tr th {\n",
       "        vertical-align: top;\n",
       "    }\n",
       "\n",
       "    .dataframe thead th {\n",
       "        text-align: right;\n",
       "    }\n",
       "</style>\n",
       "<table border=\"1\" class=\"dataframe\">\n",
       "  <thead>\n",
       "    <tr style=\"text-align: right;\">\n",
       "      <th></th>\n",
       "      <th>Principal Component 0</th>\n",
       "      <th>Principal Component 1</th>\n",
       "      <th>Principal Component 2</th>\n",
       "      <th>Principal Component 3</th>\n",
       "      <th>Principal Component 4</th>\n",
       "      <th>Principal Component 5</th>\n",
       "      <th>Principal Component 6</th>\n",
       "      <th>Principal Component 7</th>\n",
       "      <th>Principal Component 8</th>\n",
       "      <th>Principal Component 9</th>\n",
       "    </tr>\n",
       "  </thead>\n",
       "  <tbody>\n",
       "    <tr>\n",
       "      <th>count</th>\n",
       "      <td>7.069200e+04</td>\n",
       "      <td>7.069200e+04</td>\n",
       "      <td>7.069200e+04</td>\n",
       "      <td>7.069200e+04</td>\n",
       "      <td>7.069200e+04</td>\n",
       "      <td>7.069200e+04</td>\n",
       "      <td>7.069200e+04</td>\n",
       "      <td>7.069200e+04</td>\n",
       "      <td>7.069200e+04</td>\n",
       "      <td>7.069200e+04</td>\n",
       "    </tr>\n",
       "    <tr>\n",
       "      <th>mean</th>\n",
       "      <td>3.116287e-16</td>\n",
       "      <td>1.346239e-17</td>\n",
       "      <td>-3.866491e-17</td>\n",
       "      <td>-1.980975e-16</td>\n",
       "      <td>7.692541e-17</td>\n",
       "      <td>7.946571e-17</td>\n",
       "      <td>-9.059079e-17</td>\n",
       "      <td>-7.990270e-17</td>\n",
       "      <td>-1.888692e-17</td>\n",
       "      <td>-2.583485e-18</td>\n",
       "    </tr>\n",
       "    <tr>\n",
       "      <th>std</th>\n",
       "      <td>6.507464e-01</td>\n",
       "      <td>5.332532e-01</td>\n",
       "      <td>5.090359e-01</td>\n",
       "      <td>4.783889e-01</td>\n",
       "      <td>4.385680e-01</td>\n",
       "      <td>4.055832e-01</td>\n",
       "      <td>3.767874e-01</td>\n",
       "      <td>3.738061e-01</td>\n",
       "      <td>3.241496e-01</td>\n",
       "      <td>2.286798e-01</td>\n",
       "    </tr>\n",
       "    <tr>\n",
       "      <th>min</th>\n",
       "      <td>-1.182762e+00</td>\n",
       "      <td>-1.125855e+00</td>\n",
       "      <td>-1.142787e+00</td>\n",
       "      <td>-1.169304e+00</td>\n",
       "      <td>-1.192160e+00</td>\n",
       "      <td>-1.007846e+00</td>\n",
       "      <td>-1.122330e+00</td>\n",
       "      <td>-8.266214e-01</td>\n",
       "      <td>-7.046242e-01</td>\n",
       "      <td>-4.065442e-01</td>\n",
       "    </tr>\n",
       "    <tr>\n",
       "      <th>25%</th>\n",
       "      <td>-5.255540e-01</td>\n",
       "      <td>-4.123385e-01</td>\n",
       "      <td>-3.419016e-01</td>\n",
       "      <td>-3.688182e-01</td>\n",
       "      <td>-3.063269e-01</td>\n",
       "      <td>-2.224736e-01</td>\n",
       "      <td>-2.359108e-01</td>\n",
       "      <td>-2.618233e-01</td>\n",
       "      <td>-1.612828e-01</td>\n",
       "      <td>-7.280716e-02</td>\n",
       "    </tr>\n",
       "    <tr>\n",
       "      <th>50%</th>\n",
       "      <td>-9.054456e-03</td>\n",
       "      <td>-4.198682e-03</td>\n",
       "      <td>-3.792391e-02</td>\n",
       "      <td>1.488369e-02</td>\n",
       "      <td>1.656238e-02</td>\n",
       "      <td>-1.036746e-02</td>\n",
       "      <td>-5.079414e-03</td>\n",
       "      <td>-3.272266e-02</td>\n",
       "      <td>-2.976852e-02</td>\n",
       "      <td>-1.854962e-02</td>\n",
       "    </tr>\n",
       "    <tr>\n",
       "      <th>75%</th>\n",
       "      <td>4.914412e-01</td>\n",
       "      <td>3.720949e-01</td>\n",
       "      <td>3.487877e-01</td>\n",
       "      <td>3.373331e-01</td>\n",
       "      <td>2.743684e-01</td>\n",
       "      <td>2.570194e-01</td>\n",
       "      <td>2.104596e-01</td>\n",
       "      <td>1.295894e-01</td>\n",
       "      <td>8.866183e-02</td>\n",
       "      <td>7.587193e-03</td>\n",
       "    </tr>\n",
       "    <tr>\n",
       "      <th>max</th>\n",
       "      <td>1.752197e+00</td>\n",
       "      <td>1.399325e+00</td>\n",
       "      <td>1.645135e+00</td>\n",
       "      <td>1.281445e+00</td>\n",
       "      <td>1.574997e+00</td>\n",
       "      <td>1.195407e+00</td>\n",
       "      <td>1.403387e+00</td>\n",
       "      <td>1.284494e+00</td>\n",
       "      <td>1.257430e+00</td>\n",
       "      <td>1.035641e+00</td>\n",
       "    </tr>\n",
       "  </tbody>\n",
       "</table>\n",
       "</div>"
      ],
      "text/plain": [
       "       Principal Component 0  Principal Component 1  Principal Component 2  \\\n",
       "count           7.069200e+04           7.069200e+04           7.069200e+04   \n",
       "mean            3.116287e-16           1.346239e-17          -3.866491e-17   \n",
       "std             6.507464e-01           5.332532e-01           5.090359e-01   \n",
       "min            -1.182762e+00          -1.125855e+00          -1.142787e+00   \n",
       "25%            -5.255540e-01          -4.123385e-01          -3.419016e-01   \n",
       "50%            -9.054456e-03          -4.198682e-03          -3.792391e-02   \n",
       "75%             4.914412e-01           3.720949e-01           3.487877e-01   \n",
       "max             1.752197e+00           1.399325e+00           1.645135e+00   \n",
       "\n",
       "       Principal Component 3  Principal Component 4  Principal Component 5  \\\n",
       "count           7.069200e+04           7.069200e+04           7.069200e+04   \n",
       "mean           -1.980975e-16           7.692541e-17           7.946571e-17   \n",
       "std             4.783889e-01           4.385680e-01           4.055832e-01   \n",
       "min            -1.169304e+00          -1.192160e+00          -1.007846e+00   \n",
       "25%            -3.688182e-01          -3.063269e-01          -2.224736e-01   \n",
       "50%             1.488369e-02           1.656238e-02          -1.036746e-02   \n",
       "75%             3.373331e-01           2.743684e-01           2.570194e-01   \n",
       "max             1.281445e+00           1.574997e+00           1.195407e+00   \n",
       "\n",
       "       Principal Component 6  Principal Component 7  Principal Component 8  \\\n",
       "count           7.069200e+04           7.069200e+04           7.069200e+04   \n",
       "mean           -9.059079e-17          -7.990270e-17          -1.888692e-17   \n",
       "std             3.767874e-01           3.738061e-01           3.241496e-01   \n",
       "min            -1.122330e+00          -8.266214e-01          -7.046242e-01   \n",
       "25%            -2.359108e-01          -2.618233e-01          -1.612828e-01   \n",
       "50%            -5.079414e-03          -3.272266e-02          -2.976852e-02   \n",
       "75%             2.104596e-01           1.295894e-01           8.866183e-02   \n",
       "max             1.403387e+00           1.284494e+00           1.257430e+00   \n",
       "\n",
       "       Principal Component 9  \n",
       "count           7.069200e+04  \n",
       "mean           -2.583485e-18  \n",
       "std             2.286798e-01  \n",
       "min            -4.065442e-01  \n",
       "25%            -7.280716e-02  \n",
       "50%            -1.854962e-02  \n",
       "75%             7.587193e-03  \n",
       "max             1.035641e+00  "
      ]
     },
     "execution_count": 14,
     "metadata": {},
     "output_type": "execute_result"
    }
   ],
   "source": [
    "X.describe()"
   ]
  },
  {
   "cell_type": "code",
   "execution_count": 15,
   "id": "ba510248",
   "metadata": {},
   "outputs": [
    {
     "data": {
      "text/plain": [
       "0.9561169960316976"
      ]
     },
     "execution_count": 15,
     "metadata": {},
     "output_type": "execute_result"
    }
   ],
   "source": [
    "sum(pca.explained_variance_ratio_) #Que tanta informacion queda"
   ]
  },
  {
   "cell_type": "code",
   "execution_count": 16,
   "id": "1856dc40",
   "metadata": {},
   "outputs": [],
   "source": [
    "X_train, X_test, y_train, y_test = train_test_split(X, Y, test_size=0.2)\n",
    "#Dividimos en datos de entrenamiento y de prueba"
   ]
  },
  {
   "cell_type": "markdown",
   "id": "cfc7c206",
   "metadata": {},
   "source": [
    "# Modelamos"
   ]
  },
  {
   "cell_type": "code",
   "execution_count": 50,
   "id": "af5e6675",
   "metadata": {},
   "outputs": [],
   "source": [
    "models = []\n",
    "models.append(('K - Nearest Neighbors Classifier ', KNeighborsClassifier()))\n",
    "models.append(('Support Vector Machine Classifier', SVC(probability = True)))\n",
    "models.append(('Random Forest Classifier         ', RandomForestClassifier()))\n",
    "models.append(('Redes Neuronales                 ', MLPClassifier(max_iter=5000)))\n",
    "models.append(('Decision Tree                    ', DecisionTreeClassifier()))\n"
   ]
  },
  {
   "cell_type": "code",
   "execution_count": 51,
   "id": "a95dacb2",
   "metadata": {},
   "outputs": [],
   "source": [
    "ac_score = [\"Accuracy: \"]\n",
    "pre_score = [\"Precision: \"]\n",
    "sen_score = [\"Sensitivity: \"]\n",
    "espe_score = [\"Specificity: \"]\n",
    "roc_score = [\"Roc Auc Score: \"]\n",
    "cfm_list = []\n",
    "y_prob_list = []"
   ]
  },
  {
   "cell_type": "code",
   "execution_count": 52,
   "id": "e86f9072",
   "metadata": {},
   "outputs": [],
   "source": [
    "for name, model in models:\n",
    "    model.fit(X_train, y_train)\n",
    "    y_pred = model.predict(X_test)\n",
    "    cfm = confusion_matrix(y_test, y_pred)\n",
    "    y_pred_prob_pos =model.predict_proba(X_test)[:,1] #es diferente al predict normal\n",
    "    TP = cfm[1][1]\n",
    "    TN = cfm[0][0]\n",
    "    FP = cfm[0][1]\n",
    "    FN = cfm[1][0]\n",
    "    x1 = str(round(accuracy_score(y_test, y_pred),3))\n",
    "    x2 = \"True Positive: \" + str(TP) + \" True Negative: \" + str(TN) + \" False Positivee: \" + str(FP) + \" False Negative: \" + str(FN)\n",
    "    x3 = str(round(precision_score(y_test, y_pred),3))\n",
    "    x4 = str(round(TP/(TP+FN),3))\n",
    "    x5 = str(round(TN/(TN+FP),3))\n",
    "    x6 = str(round(roc_auc_score(y_test,y_pred_prob_pos),3))\n",
    "    ac_score += [x1]\n",
    "    cfm_list += [x2]\n",
    "    pre_score += [x3]\n",
    "    sen_score += [x4]\n",
    "    espe_score += [x5]\n",
    "    roc_score += [x6]\n",
    "    y_prob_list += [y_pred_prob_pos] #para poder graficar \n",
    "    "
   ]
  },
  {
   "cell_type": "code",
   "execution_count": 53,
   "id": "4804edbb",
   "metadata": {},
   "outputs": [
    {
     "name": "stdout",
     "output_type": "stream",
     "text": [
      "K - Nearest Neighbors Classifier  - True Positive: 4982 True Negative: 4782 False Positivee: 2308 False Negative: 2067\n",
      "Support Vector Machine Classifier - True Positive: 5244 True Negative: 4759 False Positivee: 2331 False Negative: 1805\n",
      "Random Forest Classifier          - True Positive: 4741 True Negative: 4751 False Positivee: 2339 False Negative: 2308\n",
      "Redes Neuronales                  - True Positive: 5292 True Negative: 4768 False Positivee: 2322 False Negative: 1757\n",
      "Decision Tree                     - True Positive: 4310 True Negative: 5031 False Positivee: 2059 False Negative: 2739\n"
     ]
    }
   ],
   "source": [
    "models_list = models\n",
    "\n",
    "for (name, mod), ac in zip(models_list, cfm_list):\n",
    "    print(name + \" - \"+ ac)"
   ]
  },
  {
   "cell_type": "code",
   "execution_count": 54,
   "id": "d7290b45",
   "metadata": {},
   "outputs": [
    {
     "name": "stdout",
     "output_type": "stream",
     "text": [
      "                  KNN    SVM    RandF    RedesN    Dtree\n",
      "--------------  -----  -----  -------  --------  -------\n",
      "Accuracy:       0.691  0.707    0.671     0.712    0.661\n",
      "Precision:      0.683  0.692    0.67      0.695    0.677\n",
      "Sensitivity:    0.707  0.744    0.673     0.751    0.611\n",
      "Specificity:    0.674  0.671    0.67      0.672    0.71\n",
      "Roc Auc Score:  0.747  0.769    0.736     0.781    0.676\n",
      "Total:          3.502  3.583    3.42      3.611    3.335\n"
     ]
    }
   ],
   "source": [
    "total = [\"Total: \",0,0,0,0,0]\n",
    "\n",
    "data = [ac_score, pre_score, sen_score, espe_score, roc_score]\n",
    "\n",
    "for x in data:\n",
    "    total[1] += float(x[1])\n",
    "    total[2] += float(x[2])\n",
    "    total[3] += float(x[3])\n",
    "    total[4] += float(x[4])\n",
    "    total[5] += float(x[5])\n",
    "    \n",
    "data = [ac_score, pre_score, sen_score, espe_score, roc_score, total]\n",
    "\n",
    "col_names = [\"KNN\", \"SVM\", \"RandF\", \"RedesN\", \"Dtree\"]\n",
    "\n",
    "print(tabulate(data, headers=col_names))"
   ]
  },
  {
   "cell_type": "markdown",
   "id": "f81669a5",
   "metadata": {},
   "source": [
    "# Grafica ROC"
   ]
  },
  {
   "cell_type": "code",
   "execution_count": 55,
   "id": "6d86a782",
   "metadata": {},
   "outputs": [
    {
     "data": {
      "text/plain": [
       "<matplotlib.legend.Legend at 0x7f9fe8d44b80>"
      ]
     },
     "execution_count": 55,
     "metadata": {},
     "output_type": "execute_result"
    },
    {
     "data": {
      "image/png": "[encoded data removed]",
      "text/plain": [
       "<Figure size 1080x720 with 1 Axes>"
      ]
     },
     "metadata": {
      "needs_background": "light"
     },
     "output_type": "display_data"
    }
   ],
   "source": [
    "plt.figure(figsize=(15, 10))\n",
    "plt.xlim([-0.1, 1.1])\n",
    "plt.ylim([-0.1, 1.1])\n",
    "plt.rcParams['font.size'] = 12\n",
    "plt.title('ROC curve for Classifiers') \n",
    "plt.xlabel('False Positive Rate (1 - Specificity)') \n",
    "plt.ylabel('True Positive Rate (Sensitivity)') \n",
    "plt.grid(True)\n",
    "    \n",
    "models_list = models\n",
    "\n",
    "for (name, mod), ac in zip(models_list, y_prob_list):\n",
    "    fpr, tpr, thresholds = roc_curve(y_test, ac)\n",
    "    plt.plot(fpr, tpr, label=name)\n",
    "    \n",
    "plt.legend(loc = 'lower right')"
   ]
  },
  {
   "cell_type": "markdown",
   "id": "cf24828c",
   "metadata": {},
   "source": [
    "# Ajuste de Hiperparametros"
   ]
  },
  {
   "cell_type": "markdown",
   "id": "38d2aad4",
   "metadata": {},
   "source": [
    "### KNN"
   ]
  },
  {
   "cell_type": "code",
   "execution_count": 56,
   "id": "3cbb1e3d",
   "metadata": {},
   "outputs": [
    {
     "name": "stdout",
     "output_type": "stream",
     "text": [
      "Best Parameters: {'leaf_size': 3, 'n_neighbors': 9, 'p': 2}\n",
      "Model: KNeighborsClassifier(leaf_size=3, n_neighbors=9)\n"
     ]
    }
   ],
   "source": [
    "knn_2 = KNeighborsClassifier()\n",
    "\n",
    "#dicionario de hiperparametros\n",
    "hyperparameters_1 = {\n",
    "    \"leaf_size\":list(range(1,10)),\n",
    "    \"n_neighbors\":list(range(1,10)),\n",
    "    \"p\":[1,2]\n",
    "} \n",
    "\n",
    "# Usamos grid search para buscar los mejores \n",
    "grid_1 = GridSearchCV(knn_2, hyperparameters_1, cv=5)\n",
    "\n",
    "#se los asignamos a un modelo\n",
    "optimal_model_1 = grid_1.fit(X_train, y_train)\n",
    "\n",
    "print(\"Best Parameters:\", optimal_model_1.best_params_)\n",
    "print(\"Model:\", optimal_model_1.best_estimator_)"
   ]
  },
  {
   "cell_type": "markdown",
   "id": "d28740c7",
   "metadata": {},
   "source": [
    "### SVM"
   ]
  },
  {
   "cell_type": "code",
   "execution_count": 21,
   "id": "1d35089d",
   "metadata": {},
   "outputs": [
    {
     "name": "stdout",
     "output_type": "stream",
     "text": [
      "Best Parameters: {'C': 0.1, 'gamma': 0.01}\n",
      "Model: SVC(C=0.1, gamma=0.01, probability=True)\n"
     ]
    }
   ],
   "source": [
    "svm_2 = SVC(probability = True)\n",
    "\n",
    "hyperparameters_2 = {\n",
    "    'C': [0.1,1, 10, 100],\n",
    "    'gamma': [1,0.1,0.01,0.001]\n",
    "}\n",
    " \n",
    "grid_2 = GridSearchCV(svm_2, hyperparameters_2, cv= 5)\n",
    " \n",
    "optimal_model_2 = grid_2.fit(X_train.sample(n = 5000, random_state=42), y_train.sample(n = 5000, random_state=42))\n",
    "\n",
    "print(\"Best Parameters:\", optimal_model_2.best_params_)\n",
    "print(\"Model:\", optimal_model_2.best_estimator_)"
   ]
  },
  {
   "cell_type": "markdown",
   "id": "f2108242",
   "metadata": {},
   "source": [
    "### Random Forests"
   ]
  },
  {
   "cell_type": "code",
   "execution_count": 32,
   "id": "1232b32a",
   "metadata": {},
   "outputs": [
    {
     "name": "stdout",
     "output_type": "stream",
     "text": [
      "Best Parameters: {'criterion': 'gini', 'min_samples_split': 10, 'n_estimators': 100}\n",
      "Model: RandomForestClassifier(min_samples_split=10)\n"
     ]
    }
   ],
   "source": [
    "rfc_2 = RandomForestClassifier()\n",
    "\n",
    "hyperparameters_3 = {\n",
    "    'criterion': [\"gini\", \"entropy\"],\n",
    "    'n_estimators': [100, 200],\n",
    "    'min_samples_split' : [2,6, 10],\n",
    "}\n",
    " \n",
    "grid_3 = GridSearchCV(rfc_2, hyperparameters_3, cv= 5)\n",
    " \n",
    "optimal_model_3 = grid_3.fit(X_train, y_train)\n",
    "\n",
    "print(\"Best Parameters:\", optimal_model_3.best_params_)\n",
    "print(\"Model:\", optimal_model_3.best_estimator_)"
   ]
  },
  {
   "cell_type": "markdown",
   "id": "1592cdf9",
   "metadata": {},
   "source": [
    "### Neural Networks"
   ]
  },
  {
   "cell_type": "code",
   "execution_count": 34,
   "id": "f588d657",
   "metadata": {},
   "outputs": [
    {
     "name": "stdout",
     "output_type": "stream",
     "text": [
      "Best Parameters: {'activation': 'relu', 'solver': 'adam'}\n",
      "Model: MLPClassifier(max_iter=5000)\n"
     ]
    }
   ],
   "source": [
    "nn_2 =  MLPClassifier(max_iter=5000)\n",
    "\n",
    "hyperparameters_4 = {\n",
    "    'activation': ['logistic', 'relu'],\n",
    "    'solver': ['sgd', 'adam'],\n",
    "}\n",
    "grid_4 = GridSearchCV(nn_2, hyperparameters_4, cv= 5)\n",
    " \n",
    "optimal_model_4 = grid_4.fit(X_train, y_train)\n",
    "\n",
    "print(\"Best Parameters:\", optimal_model_4.best_params_)\n",
    "print(\"Model:\", optimal_model_4.best_estimator_)"
   ]
  },
  {
   "cell_type": "markdown",
   "id": "44810f2a",
   "metadata": {},
   "source": [
    "# Validacion Cruzada"
   ]
  },
  {
   "cell_type": "markdown",
   "id": "3c23e914",
   "metadata": {},
   "source": [
    "### KNN"
   ]
  },
  {
   "cell_type": "code",
   "execution_count": 27,
   "id": "2a793bef",
   "metadata": {},
   "outputs": [
    {
     "name": "stdout",
     "output_type": "stream",
     "text": [
      "Average: 0.7 Std Dev: +/-0.02\n"
     ]
    }
   ],
   "source": [
    "knn_3 = KNeighborsClassifier(leaf_size=3, n_neighbors=9)\n",
    "scores = cross_val_score(knn_3, X_test,y_test, cv=5, scoring='accuracy')\n",
    "print(f\"Average: {round(scores.mean(),2)} Std Dev: +/-{round(scores.std(),2)}\")"
   ]
  },
  {
   "cell_type": "markdown",
   "id": "076a7035",
   "metadata": {},
   "source": [
    "### SVM"
   ]
  },
  {
   "cell_type": "code",
   "execution_count": 24,
   "id": "035e0597",
   "metadata": {},
   "outputs": [
    {
     "name": "stdout",
     "output_type": "stream",
     "text": [
      "Average: 0.69 Std Dev: +/-0.01\n"
     ]
    }
   ],
   "source": [
    "svm_3 = SVC(C=0.1, gamma=0.01, probability=True)\n",
    "scores = cross_val_score(svm_3, X_test,y_test, cv=5, scoring='accuracy')\n",
    "print(f\"Average: {round(scores.mean(),2)} Std Dev: +/-{round(scores.std(),2)}\")"
   ]
  },
  {
   "cell_type": "markdown",
   "id": "732fad12",
   "metadata": {},
   "source": [
    "### Random Forests"
   ]
  },
  {
   "cell_type": "code",
   "execution_count": 31,
   "id": "6d0e408c",
   "metadata": {},
   "outputs": [
    {
     "name": "stdout",
     "output_type": "stream",
     "text": [
      "Average: 0.69 Std Dev: +/-0.01\n"
     ]
    }
   ],
   "source": [
    "rfc_3 = RandomForestClassifier(min_samples_split=10)\n",
    "scores = cross_val_score(rfc_3, X_test,y_test, cv=5, scoring='accuracy')\n",
    "print(f\"Average: {round(scores.mean(),2)} Std Dev: +/-{round(scores.std(),2)}\")"
   ]
  },
  {
   "cell_type": "markdown",
   "id": "d1476aef",
   "metadata": {},
   "source": [
    "### Neural Networks"
   ]
  },
  {
   "cell_type": "code",
   "execution_count": 30,
   "id": "969b0f9a",
   "metadata": {},
   "outputs": [
    {
     "name": "stdout",
     "output_type": "stream",
     "text": [
      "Average: 0.71 Std Dev: +/-0.0\n"
     ]
    }
   ],
   "source": [
    "nn_3 = MLPClassifier(max_iter=5000)\n",
    "scores = cross_val_score(nn_3, X_test,y_test, cv=5, scoring='accuracy')\n",
    "print(f\"Average: {round(scores.mean(),2)} Std Dev: +/-{round(scores.std(),2)}\")"
   ]
  },
  {
   "cell_type": "code",
   "execution_count": null,
   "id": "cced96ca",
   "metadata": {},
   "outputs": [],
   "source": []
  }
 ],
 "metadata": {
  "kernelspec": {
   "display_name": "Python 3 (ipykernel)",
   "language": "python",
   "name": "python3"
  },
  "language_info": {
   "codemirror_mode": {
    "name": "ipython",
    "version": 3
   },
   "file_extension": ".py",
   "mimetype": "text/x-python",
   "name": "python",
   "nbconvert_exporter": "python",
   "pygments_lexer": "ipython3",
   "version": "3.9.7"
  }
 },
 "nbformat": 4,
 "nbformat_minor": 5
}
